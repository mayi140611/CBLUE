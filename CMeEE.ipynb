{
 "cells": [
  {
   "cell_type": "code",
   "execution_count": 1,
   "id": "dec760f3",
   "metadata": {},
   "outputs": [],
   "source": [
    "import os\n",
    "import sys\n",
    "sys.path.append('.')\n",
    "import argparse\n",
    "import torch\n",
    "from transformers import BertTokenizer, BertForSequenceClassification, AlbertForSequenceClassification, \\\n",
    "    BertForTokenClassification, AlbertForTokenClassification\n",
    "\n",
    "from cblue.data import STSDataProcessor, STSDataset, QICDataset, QICDataProcessor, QQRDataset, \\\n",
    "    QQRDataProcessor, QTRDataset, QTRDataProcessor, CTCDataset, CTCDataProcessor, EEDataset, EEDataProcessor\n",
    "from cblue.trainer import STSTrainer, QICTrainer, QQRTrainer, QTRTrainer, CTCTrainer, EETrainer\n",
    "from cblue.utils import init_logger, seed_everything\n",
    "from cblue.models import ZenConfig, ZenNgramDict, Z\n",
    "enForSequenceClassification, ZenForTokenClassification"
   ]
  },
  {
   "cell_type": "code",
   "execution_count": 2,
   "id": "236a39d6",
   "metadata": {},
   "outputs": [],
   "source": [
    "TASK_DATASET_CLASS = {\n",
    "    'ee': (EEDataset, EEDataProcessor),\n",
    "    'ctc': (CTCDataset, CTCDataProcessor),\n",
    "    'sts': (STSDataset, STSDataProcessor),\n",
    "    'qqr': (QQRDataset, QQRDataProcessor),\n",
    "    'qtr': (QTRDataset, QTRDataProcessor),\n",
    "    'qic': (QICDataset, QICDataProcessor)\n",
    "}\n",
    "\n",
    "TASK_TRAINER = {\n",
    "    'ee': EETrainer,\n",
    "    'ctc': CTCTrainer,\n",
    "    'sts': STSTrainer,\n",
    "    'qic': QICTrainer,\n",
    "    'qqr': QQRTrainer,\n",
    "    'qtr': QTRTrainer\n",
    "}\n",
    "\n",
    "MODEL_CLASS = {\n",
    "    'bert': (BertTokenizer, BertForSequenceClassification),\n",
    "    'roberta': (BertTokenizer, BertForSequenceClassification),\n",
    "    'albert': (BertTokenizer, AlbertForSequenceClassification),\n",
    "    'zen': (BertTokenizer, ZenForSequenceClassification)\n",
    "}\n",
    "\n",
    "TOKEN_MODEL_CLASS = {\n",
    "    'bert': (BertTokenizer, BertForTokenClassification),\n",
    "    'roberta': (BertTokenizer, BertForTokenClassification),\n",
    "    'albert': (BertTokenizer, AlbertForTokenClassification),\n",
    "    'zen': (BertTokenizer, ZenForTokenClassification)\n",
    "}"
   ]
  },
  {
   "cell_type": "code",
   "execution_count": 4,
   "id": "a7cfda59",
   "metadata": {},
   "outputs": [],
   "source": [
    "parser = argparse.ArgumentParser()\n",
    "args = parser.parse_args([])"
   ]
  },
  {
   "cell_type": "code",
   "execution_count": 17,
   "id": "30e8bbe1",
   "metadata": {},
   "outputs": [],
   "source": [
    "args.task_name = \"ee\"\n",
    "args.model_type = \"bert\"\n",
    "args.seed = 14\n",
    "args.model_dir, args.model_name = \"data/model_data\", \"chinese-bert-wwm-ext\"\n",
    "args.data_dir=\"CBLUEDatasets\"\n",
    "args.max_length = 128\n",
    "args.output_dir=\"data/output\""
   ]
  },
  {
   "cell_type": "code",
   "execution_count": 6,
   "id": "f7c8bbfd",
   "metadata": {},
   "outputs": [],
   "source": [
    "tokenizer_class, model_class = MODEL_CLASS[args.model_type]\n",
    "dataset_class, data_processor_class = TASK_DATASET_CLASS[args.task_name]\n",
    "trainer_class = TASK_TRAINER[args.task_name]\n",
    "\n",
    "if args.task_name == 'ee':\n",
    "    tokenizer_class, model_class = TOKEN_MODEL_CLASS[args.model_type]"
   ]
  },
  {
   "cell_type": "code",
   "execution_count": 10,
   "id": "73fbcc8f",
   "metadata": {},
   "outputs": [],
   "source": [
    "device = torch.device(\"cuda:0\" if torch.cuda.is_available() else \"cpu\")\n",
    "args.device = device\n",
    "seed_everything(args.seed)"
   ]
  },
  {
   "cell_type": "code",
   "execution_count": 18,
   "id": "a31b2edf",
   "metadata": {},
   "outputs": [],
   "source": [
    "logger = init_logger(os.path.join(args.output_dir, f'{args.task_name}_{args.model_name}.log'))"
   ]
  },
  {
   "cell_type": "markdown",
   "id": "745e441a",
   "metadata": {},
   "source": [
    "# train"
   ]
  },
  {
   "cell_type": "code",
   "execution_count": 19,
   "id": "146cbb04",
   "metadata": {},
   "outputs": [
    {
     "name": "stderr",
     "output_type": "stream",
     "text": [
      "Some weights of BertForTokenClassification were not initialized from the model checkpoint at data/model_data/chinese-bert-wwm-ext and are newly initialized: ['classifier.bias', 'classifier.weight']\n",
      "You should probably TRAIN this model on a down-stream task to be able to use it for predictions and inference.\n"
     ]
    },
    {
     "ename": "AttributeError",
     "evalue": "'Namespace' object has no attribute 'train_batch_size'",
     "output_type": "error",
     "traceback": [
      "\u001b[0;31m---------------------------------------------------------------------------\u001b[0m",
      "\u001b[0;31mAttributeError\u001b[0m                            Traceback (most recent call last)",
      "\u001b[0;32m/tmp/ipykernel_1656/1864086499.py\u001b[0m in \u001b[0;36m<module>\u001b[0;34m\u001b[0m\n\u001b[1;32m     28\u001b[0m                             logger=logger, model_class=model_class, ngram_dict=ngram_dict)\n\u001b[1;32m     29\u001b[0m \u001b[0;34m\u001b[0m\u001b[0m\n\u001b[0;32m---> 30\u001b[0;31m     \u001b[0mglobal_step\u001b[0m\u001b[0;34m,\u001b[0m \u001b[0mbest_step\u001b[0m \u001b[0;34m=\u001b[0m \u001b[0mtrainer\u001b[0m\u001b[0;34m.\u001b[0m\u001b[0mtrain\u001b[0m\u001b[0;34m(\u001b[0m\u001b[0;34m)\u001b[0m\u001b[0;34m\u001b[0m\u001b[0;34m\u001b[0m\u001b[0m\n\u001b[0m",
      "\u001b[0;32m/paddle/CBLUE/cblue/trainer/train.py\u001b[0m in \u001b[0;36mtrain\u001b[0;34m(self)\u001b[0m\n\u001b[1;32m     50\u001b[0m         \u001b[0mmodel\u001b[0m\u001b[0;34m.\u001b[0m\u001b[0mto\u001b[0m\u001b[0;34m(\u001b[0m\u001b[0margs\u001b[0m\u001b[0;34m.\u001b[0m\u001b[0mdevice\u001b[0m\u001b[0;34m)\u001b[0m\u001b[0;34m\u001b[0m\u001b[0;34m\u001b[0m\u001b[0m\n\u001b[1;32m     51\u001b[0m \u001b[0;34m\u001b[0m\u001b[0m\n\u001b[0;32m---> 52\u001b[0;31m         \u001b[0mtrain_dataloader\u001b[0m \u001b[0;34m=\u001b[0m \u001b[0mself\u001b[0m\u001b[0;34m.\u001b[0m\u001b[0mget_train_dataloader\u001b[0m\u001b[0;34m(\u001b[0m\u001b[0;34m)\u001b[0m\u001b[0;34m\u001b[0m\u001b[0;34m\u001b[0m\u001b[0m\n\u001b[0m\u001b[1;32m     53\u001b[0m \u001b[0;34m\u001b[0m\u001b[0m\n\u001b[1;32m     54\u001b[0m         \u001b[0mnum_training_steps\u001b[0m \u001b[0;34m=\u001b[0m \u001b[0mlen\u001b[0m\u001b[0;34m(\u001b[0m\u001b[0mtrain_dataloader\u001b[0m\u001b[0;34m)\u001b[0m \u001b[0;34m*\u001b[0m \u001b[0margs\u001b[0m\u001b[0;34m.\u001b[0m\u001b[0mepochs\u001b[0m\u001b[0;34m\u001b[0m\u001b[0;34m\u001b[0m\u001b[0m\n",
      "\u001b[0;32m/paddle/CBLUE/cblue/trainer/train.py\u001b[0m in \u001b[0;36mget_train_dataloader\u001b[0;34m(self)\u001b[0m\n\u001b[1;32m    139\u001b[0m         return DataLoader(\n\u001b[1;32m    140\u001b[0m             \u001b[0mself\u001b[0m\u001b[0;34m.\u001b[0m\u001b[0mtrain_dataset\u001b[0m\u001b[0;34m,\u001b[0m\u001b[0;34m\u001b[0m\u001b[0;34m\u001b[0m\u001b[0m\n\u001b[0;32m--> 141\u001b[0;31m             \u001b[0mbatch_size\u001b[0m\u001b[0;34m=\u001b[0m\u001b[0mself\u001b[0m\u001b[0;34m.\u001b[0m\u001b[0margs\u001b[0m\u001b[0;34m.\u001b[0m\u001b[0mtrain_batch_size\u001b[0m\u001b[0;34m,\u001b[0m\u001b[0;34m\u001b[0m\u001b[0;34m\u001b[0m\u001b[0m\n\u001b[0m\u001b[1;32m    142\u001b[0m             \u001b[0mshuffle\u001b[0m\u001b[0;34m=\u001b[0m\u001b[0;32mTrue\u001b[0m\u001b[0;34m\u001b[0m\u001b[0;34m\u001b[0m\u001b[0m\n\u001b[1;32m    143\u001b[0m         )\n",
      "\u001b[0;31mAttributeError\u001b[0m: 'Namespace' object has no attribute 'train_batch_size'"
     ]
    }
   ],
   "source": [
    "args.do_train = True\n",
    "if args.do_train:\n",
    "    tokenizer = tokenizer_class.from_pretrained(os.path.join(args.model_dir, args.model_name))\n",
    "\n",
    "    # compatible with 'ZEN' model\n",
    "    ngram_dict = None\n",
    "    if args.model_type == 'zen':\n",
    "        ngram_dict = ZenNgramDict(os.path.join(args.model_dir, args.model_name), tokenizer=tokenizer)\n",
    "\n",
    "    data_processor = data_processor_class(root=args.data_dir)\n",
    "    train_samples = data_processor.get_train_sample()\n",
    "    eval_samples = data_processor.get_dev_sample()\n",
    "\n",
    "    if args.task_name == 'ee' or args.task_name == 'ctc':\n",
    "        train_dataset = dataset_class(train_samples, data_processor, tokenizer, mode='train',\n",
    "                                      model_type=args.model_type, ngram_dict=ngram_dict, max_length=args.max_length)\n",
    "        eval_dataset = dataset_class(eval_samples, data_processor, tokenizer, mode='eval',\n",
    "                                     model_type=args.model_type, ngram_dict=ngram_dict, max_length=args.max_length)\n",
    "    else:\n",
    "        train_dataset = dataset_class(train_samples, data_processor, mode='train')\n",
    "        eval_dataset = dataset_class(eval_samples, data_processor, mode='eval')\n",
    "\n",
    "    model = model_class.from_pretrained(os.path.join(args.model_dir, args.model_name),\n",
    "                                        num_labels=data_processor.num_labels)\n",
    "\n",
    "    trainer = trainer_class(args=args, model=model, data_processor=data_processor,\n",
    "                            tokenizer=tokenizer, train_dataset=train_dataset, eval_dataset=eval_dataset,\n",
    "                            logger=logger, model_class=model_class, ngram_dict=ngram_dict)\n",
    "\n",
    "    global_step, best_step = trainer.train()"
   ]
  },
  {
   "cell_type": "code",
   "execution_count": null,
   "id": "983dd15b",
   "metadata": {},
   "outputs": [],
   "source": []
  }
 ],
 "metadata": {
  "kernelspec": {
   "display_name": "Python 3 (ipykernel)",
   "language": "python",
   "name": "python3"
  },
  "language_info": {
   "codemirror_mode": {
    "name": "ipython",
    "version": 3
   },
   "file_extension": ".py",
   "mimetype": "text/x-python",
   "name": "python",
   "nbconvert_exporter": "python",
   "pygments_lexer": "ipython3",
   "version": "3.7.12"
  },
  "toc": {
   "base_numbering": 1,
   "nav_menu": {},
   "number_sections": true,
   "sideBar": true,
   "skip_h1_title": false,
   "title_cell": "Table of Contents",
   "title_sidebar": "Contents",
   "toc_cell": false,
   "toc_position": {},
   "toc_section_display": true,
   "toc_window_display": true
  }
 },
 "nbformat": 4,
 "nbformat_minor": 5
}
